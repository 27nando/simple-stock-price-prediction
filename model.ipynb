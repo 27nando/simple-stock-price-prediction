{
 "cells": [
  {
   "cell_type": "code",
   "execution_count": 2,
   "metadata": {},
   "outputs": [],
   "source": [
    "import math\n",
    "#to read data from the web\n",
    "import pandas_datareader as web \n",
    "#to perform numerical computations\n",
    "import numpy as np \n",
    "#for data manipulation and analysis\n",
    "import pandas as pd\n",
    "#to normalize and scale the data\n",
    "from sklearn.preprocessing import MinMaxScaler\n",
    "import tensorflow as tf\n",
    "#to build the model layer by layer\n",
    "from tensorflow.keras.models import Sequential\n",
    "#for time series prediction - Long Short Term Memory\n",
    "from tensorflow.keras.layers import Dense, LSTM\n",
    "#to plot the graphs\n",
    "import matplotlib.pyplot as plt\n",
    "plt.style.use('fivethirtyeight')\n",
    "#download market data from yahoo finance\n",
    "import yfinance as yf"
   ]
  },
  {
   "cell_type": "code",
   "execution_count": 3,
   "metadata": {},
   "outputs": [
    {
     "name": "stderr",
     "output_type": "stream",
     "text": [
      "[*********************100%%**********************]  1 of 1 completed\n"
     ]
    },
    {
     "data": {
      "text/html": [
       "<div>\n",
       "<style scoped>\n",
       "    .dataframe tbody tr th:only-of-type {\n",
       "        vertical-align: middle;\n",
       "    }\n",
       "\n",
       "    .dataframe tbody tr th {\n",
       "        vertical-align: top;\n",
       "    }\n",
       "\n",
       "    .dataframe thead th {\n",
       "        text-align: right;\n",
       "    }\n",
       "</style>\n",
       "<table border=\"1\" class=\"dataframe\">\n",
       "  <thead>\n",
       "    <tr style=\"text-align: right;\">\n",
       "      <th></th>\n",
       "      <th>Open</th>\n",
       "      <th>High</th>\n",
       "      <th>Low</th>\n",
       "      <th>Close</th>\n",
       "      <th>Adj Close</th>\n",
       "      <th>Volume</th>\n",
       "    </tr>\n",
       "    <tr>\n",
       "      <th>Date</th>\n",
       "      <th></th>\n",
       "      <th></th>\n",
       "      <th></th>\n",
       "      <th></th>\n",
       "      <th></th>\n",
       "      <th></th>\n",
       "    </tr>\n",
       "  </thead>\n",
       "  <tbody>\n",
       "    <tr>\n",
       "      <th>2019-01-02</th>\n",
       "      <td>20.406668</td>\n",
       "      <td>21.008667</td>\n",
       "      <td>19.920000</td>\n",
       "      <td>20.674667</td>\n",
       "      <td>20.674667</td>\n",
       "      <td>174879000</td>\n",
       "    </tr>\n",
       "    <tr>\n",
       "      <th>2019-01-03</th>\n",
       "      <td>20.466667</td>\n",
       "      <td>20.626667</td>\n",
       "      <td>19.825333</td>\n",
       "      <td>20.024000</td>\n",
       "      <td>20.024000</td>\n",
       "      <td>104478000</td>\n",
       "    </tr>\n",
       "    <tr>\n",
       "      <th>2019-01-04</th>\n",
       "      <td>20.400000</td>\n",
       "      <td>21.200001</td>\n",
       "      <td>20.181999</td>\n",
       "      <td>21.179333</td>\n",
       "      <td>21.179333</td>\n",
       "      <td>110911500</td>\n",
       "    </tr>\n",
       "    <tr>\n",
       "      <th>2019-01-07</th>\n",
       "      <td>21.448000</td>\n",
       "      <td>22.449333</td>\n",
       "      <td>21.183332</td>\n",
       "      <td>22.330667</td>\n",
       "      <td>22.330667</td>\n",
       "      <td>113268000</td>\n",
       "    </tr>\n",
       "    <tr>\n",
       "      <th>2019-01-08</th>\n",
       "      <td>22.797333</td>\n",
       "      <td>22.934000</td>\n",
       "      <td>21.801332</td>\n",
       "      <td>22.356667</td>\n",
       "      <td>22.356667</td>\n",
       "      <td>105127500</td>\n",
       "    </tr>\n",
       "    <tr>\n",
       "      <th>...</th>\n",
       "      <td>...</td>\n",
       "      <td>...</td>\n",
       "      <td>...</td>\n",
       "      <td>...</td>\n",
       "      <td>...</td>\n",
       "      <td>...</td>\n",
       "    </tr>\n",
       "    <tr>\n",
       "      <th>2024-05-24</th>\n",
       "      <td>174.839996</td>\n",
       "      <td>180.080002</td>\n",
       "      <td>173.729996</td>\n",
       "      <td>179.240005</td>\n",
       "      <td>179.240005</td>\n",
       "      <td>65479700</td>\n",
       "    </tr>\n",
       "    <tr>\n",
       "      <th>2024-05-28</th>\n",
       "      <td>176.399994</td>\n",
       "      <td>178.250000</td>\n",
       "      <td>173.160004</td>\n",
       "      <td>176.750000</td>\n",
       "      <td>176.750000</td>\n",
       "      <td>59736600</td>\n",
       "    </tr>\n",
       "    <tr>\n",
       "      <th>2024-05-29</th>\n",
       "      <td>174.190002</td>\n",
       "      <td>178.149994</td>\n",
       "      <td>173.929993</td>\n",
       "      <td>176.190002</td>\n",
       "      <td>176.190002</td>\n",
       "      <td>54782600</td>\n",
       "    </tr>\n",
       "    <tr>\n",
       "      <th>2024-05-30</th>\n",
       "      <td>178.580002</td>\n",
       "      <td>182.669998</td>\n",
       "      <td>175.380005</td>\n",
       "      <td>178.789993</td>\n",
       "      <td>178.789993</td>\n",
       "      <td>77784800</td>\n",
       "    </tr>\n",
       "    <tr>\n",
       "      <th>2024-05-31</th>\n",
       "      <td>178.500000</td>\n",
       "      <td>180.320007</td>\n",
       "      <td>173.820007</td>\n",
       "      <td>178.080002</td>\n",
       "      <td>178.080002</td>\n",
       "      <td>67314600</td>\n",
       "    </tr>\n",
       "  </tbody>\n",
       "</table>\n",
       "<p>1363 rows × 6 columns</p>\n",
       "</div>"
      ],
      "text/plain": [
       "                  Open        High  ...   Adj Close     Volume\n",
       "Date                                ...                       \n",
       "2019-01-02   20.406668   21.008667  ...   20.674667  174879000\n",
       "2019-01-03   20.466667   20.626667  ...   20.024000  104478000\n",
       "2019-01-04   20.400000   21.200001  ...   21.179333  110911500\n",
       "2019-01-07   21.448000   22.449333  ...   22.330667  113268000\n",
       "2019-01-08   22.797333   22.934000  ...   22.356667  105127500\n",
       "...                ...         ...  ...         ...        ...\n",
       "2024-05-24  174.839996  180.080002  ...  179.240005   65479700\n",
       "2024-05-28  176.399994  178.250000  ...  176.750000   59736600\n",
       "2024-05-29  174.190002  178.149994  ...  176.190002   54782600\n",
       "2024-05-30  178.580002  182.669998  ...  178.789993   77784800\n",
       "2024-05-31  178.500000  180.320007  ...  178.080002   67314600\n",
       "\n",
       "[1363 rows x 6 columns]"
      ]
     },
     "execution_count": 3,
     "metadata": {},
     "output_type": "execute_result"
    }
   ],
   "source": [
    "#download the stock market data for Tesla (TSLA) from yahoo finance and assign it to data frae df\n",
    "df = yf.download('TSLA', start='2019-01-01', end='2024-06-01')\n",
    "df"
   ]
  },
  {
   "cell_type": "code",
   "execution_count": 4,
   "metadata": {},
   "outputs": [
    {
     "data": {
      "image/png": "[encoded data removed]",
      "text/plain": [
       "<Figure size 1600x800 with 1 Axes>"
      ]
     },
     "metadata": {},
     "output_type": "display_data"
    }
   ],
   "source": [
    "#plot the financial information from the stock data into a visual form\n",
    "plt.figure(figsize=(16,8))\n",
    "plt.title('Close Price History')\n",
    "plt.plot(df['Close'])\n",
    "plt.xlabel('Date',fontsize=18)\n",
    "plt.ylabel('Close Price USD ($)',fontsize=18)\n",
    "plt.show()"
   ]
  },
  {
   "cell_type": "code",
   "execution_count": 5,
   "metadata": {},
   "outputs": [
    {
     "data": {
      "text/plain": [
       "1091"
      ]
     },
     "execution_count": 5,
     "metadata": {},
     "output_type": "execute_result"
    }
   ],
   "source": [
    "#filter the data frame to contain only the cloding price column\n",
    "data = df.filter(['Close'])\n",
    "#convert the data frame into a numpy array \n",
    "dataset = data.values\n",
    "#we will use 80% of the totla number of rows to train the dataset\n",
    "training_data_len = math.ceil(len(dataset) * .8)\n",
    "training_data_len"
   ]
  },
  {
   "cell_type": "code",
   "execution_count": 6,
   "metadata": {},
   "outputs": [
    {
     "data": {
      "text/plain": [
       "array([[0.02196604],\n",
       "       [0.02033136],\n",
       "       [0.02323392],\n",
       "       ...,\n",
       "       [0.41267013],\n",
       "       [0.41920214],\n",
       "       [0.41741841]])"
      ]
     },
     "execution_count": 6,
     "metadata": {},
     "output_type": "execute_result"
    }
   ],
   "source": [
    "#create an instance of MinMaxScaler to scale all features to range 0 to 1\n",
    "scaler = MinMaxScaler(feature_range=(0,1))\n",
    "#scale all values in dataset between the range 0 to 1\n",
    "scaled_data = scaler.fit_transform(dataset)\n",
    "scaled_data"
   ]
  },
  {
   "cell_type": "code",
   "execution_count": 7,
   "metadata": {},
   "outputs": [
    {
     "name": "stdout",
     "output_type": "stream",
     "text": [
      "[array([0.02196604, 0.02033136, 0.02323392, 0.02612644, 0.02619176,\n",
      "       0.02672437, 0.02780299, 0.02818654, 0.02603265, 0.02771255,\n",
      "       0.02798388, 0.02819492, 0.02064959, 0.02009018, 0.01819254,\n",
      "       0.01884909, 0.0197753 , 0.01966476, 0.01984565, 0.02173993,\n",
      "       0.02144683, 0.02231609, 0.02242998, 0.02384693, 0.02315521,\n",
      "       0.0215289 , 0.0212425 , 0.02242161, 0.02224909, 0.02163944,\n",
      "       0.02090249, 0.02159087, 0.02121569, 0.02069984, 0.01880219,\n",
      "       0.01938505, 0.02006505, 0.01991264, 0.02273984, 0.02360072,\n",
      "       0.01939845, 0.01781904, 0.0163418 , 0.01629155, 0.01635017,\n",
      "       0.01761471, 0.01875027, 0.01748407, 0.018422  , 0.01858949,\n",
      "       0.01615588, 0.01516101, 0.01482268, 0.01584938, 0.01591973,\n",
      "       0.01433026, 0.01364189, 0.01487293, 0.01605539, 0.01669017])]\n",
      "[0.016897857710496657]\n",
      "\n"
     ]
    }
   ],
   "source": [
    "#extract training data\n",
    "train_data = scaled_data[0:training_data_len, :]\n",
    "#create and initialise empty lists for training data\n",
    "x_train = []\n",
    "y_train = []\n",
    "#create sequential data for lstm\n",
    "for i in range(60, len(train_data)):\n",
    "    #appends the previous 60 closing prices to x_train\n",
    "    x_train.append(train_data[i-60:i, 0])\n",
    "    #appends the next closing price to y_train\n",
    "    #target output based on the input sequence\n",
    "    y_train.append(train_data[i, 0])\n",
    "    if i <= 60:\n",
    "        print(x_train)\n",
    "        print(y_train)\n",
    "        print()"
   ]
  },
  {
   "cell_type": "code",
   "execution_count": 9,
   "metadata": {},
   "outputs": [],
   "source": [
    "x_train, y_train = np.array(x_train), np.array(y_train)"
   ]
  },
  {
   "cell_type": "code",
   "execution_count": 10,
   "metadata": {},
   "outputs": [
    {
     "data": {
      "text/plain": [
       "(1031, 60, 1)"
      ]
     },
     "execution_count": 10,
     "metadata": {},
     "output_type": "execute_result"
    }
   ],
   "source": [
    "#to fit the requirements of lstm\n",
    "x_train = np.reshape(x_train, (x_train.shape[0], x_train.shape[1], 1))\n",
    "x_train.shape"
   ]
  },
  {
   "cell_type": "code",
   "execution_count": 11,
   "metadata": {},
   "outputs": [
    {
     "name": "stderr",
     "output_type": "stream",
     "text": [
      "/Library/Frameworks/Python.framework/Versions/3.12/lib/python3.12/site-packages/keras/src/layers/rnn/rnn.py:204: UserWarning: Do not pass an `input_shape`/`input_dim` argument to a layer. When using Sequential models, prefer using an `Input(shape)` object as the first layer in the model instead.\n",
      "  super().__init__(**kwargs)\n"
     ]
    }
   ],
   "source": [
    "#add layers one after another\n",
    "model = Sequential() #Sequential() creates a new neural network\n",
    "#add lstm layer which returns the sequence rather than the last output\n",
    "model.add(LSTM(50, return_sequences=True, input_shape=(x_train.shape[1], 1)))\n",
    "#add lstm layer which return only the last output\n",
    "model.add(LSTM(50, return_sequences=False))\n",
    "#layer to learn the non-linear relationship in the data\n",
    "model.add(Dense(25))\n",
    "model.add(Dense(1))"
   ]
  },
  {
   "cell_type": "code",
   "execution_count": 12,
   "metadata": {},
   "outputs": [],
   "source": [
    "model.compile(optimizer='adam', loss='mean_squared_error')"
   ]
  },
  {
   "cell_type": "code",
   "execution_count": 21,
   "metadata": {},
   "outputs": [
    {
     "name": "stdout",
     "output_type": "stream",
     "text": [
      "\u001b[1m1031/1031\u001b[0m \u001b[32m━━━━━━━━━━━━━━━━━━━━\u001b[0m\u001b[37m\u001b[0m \u001b[1m10s\u001b[0m 9ms/step - loss: 0.0081\n"
     ]
    },
    {
     "data": {
      "text/plain": [
       "<keras.src.callbacks.history.History at 0x292ec0290>"
      ]
     },
     "execution_count": 21,
     "metadata": {},
     "output_type": "execute_result"
    }
   ],
   "source": [
    "model.fit(x_train, y_train, batch_size=1, epochs=1)"
   ]
  },
  {
   "cell_type": "code",
   "execution_count": 22,
   "metadata": {},
   "outputs": [],
   "source": [
    "#extract scaled data to generate sequence\n",
    "test_data = scaled_data[training_data_len - 60:, :]\n",
    "x_test = []\n",
    "y_test = dataset[training_data_len:, :]\n",
    "#create sequential test data\n",
    "for i in range(60, len(test_data)):\n",
    "    x_test.append(test_data[i-60:i, 0])   "
   ]
  },
  {
   "cell_type": "code",
   "execution_count": 23,
   "metadata": {},
   "outputs": [],
   "source": [
    "x_test = np.array(x_test)"
   ]
  },
  {
   "cell_type": "code",
   "execution_count": 24,
   "metadata": {},
   "outputs": [],
   "source": [
    "x_test = np.reshape(x_test, (x_test.shape[0], x_test.shape[1], 1))"
   ]
  },
  {
   "cell_type": "code",
   "execution_count": 25,
   "metadata": {},
   "outputs": [
    {
     "name": "stdout",
     "output_type": "stream",
     "text": [
      "\u001b[1m9/9\u001b[0m \u001b[32m━━━━━━━━━━━━━━━━━━━━\u001b[0m\u001b[37m\u001b[0m \u001b[1m0s\u001b[0m 5ms/step \n",
      "[[173.48756]\n",
      " [173.42723]\n",
      " [173.53828]\n",
      " [175.08241]\n",
      " [177.31693]\n",
      " [179.13899]\n",
      " [180.40604]\n",
      " [181.75949]\n",
      " [182.28505]\n",
      " [182.09418]\n",
      " [181.60977]\n",
      " [182.18619]\n",
      " [183.61696]\n",
      " [185.74202]\n",
      " [189.237  ]\n",
      " [192.33311]\n",
      " [194.33986]\n",
      " [195.77585]\n",
      " [198.06947]\n",
      " [201.63017]\n",
      " [205.64929]\n",
      " [209.83162]\n",
      " [214.45518]\n",
      " [219.11166]\n",
      " [223.62857]\n",
      " [227.8685 ]\n",
      " [232.94882]\n",
      " [239.09525]\n",
      " [245.58768]\n",
      " [252.62857]\n",
      " [258.40167]\n",
      " [262.51807]\n",
      " [265.9533 ]\n",
      " [270.75708]\n",
      " [272.7724 ]\n",
      " [274.1778 ]\n",
      " [273.65796]\n",
      " [269.8316 ]\n",
      " [266.73877]\n",
      " [265.3507 ]\n",
      " [265.1383 ]\n",
      " [266.22772]\n",
      " [270.7248 ]\n",
      " [276.38034]\n",
      " [280.6785 ]\n",
      " [283.3729 ]\n",
      " [284.0908 ]\n",
      " [283.8408 ]\n",
      " [283.52298]\n",
      " [284.17154]\n",
      " [285.67435]\n",
      " [288.80658]\n",
      " [292.58902]\n",
      " [295.683  ]\n",
      " [293.2126 ]\n",
      " [288.43533]\n",
      " [284.8518 ]\n",
      " [281.63995]\n",
      " [279.01837]\n",
      " [275.68317]\n",
      " [274.43735]\n",
      " [274.419  ]\n",
      " [273.94144]\n",
      " [272.26645]\n",
      " [271.2431 ]\n",
      " [269.72705]\n",
      " [267.8943 ]\n",
      " [265.94388]\n",
      " [263.0351 ]\n",
      " [260.73654]\n",
      " [258.6115 ]\n",
      " [256.46762]\n",
      " [253.57947]\n",
      " [249.67252]\n",
      " [244.93803]\n",
      " [240.00996]\n",
      " [238.33464]\n",
      " [238.63593]\n",
      " [240.43857]\n",
      " [241.55382]\n",
      " [243.63351]\n",
      " [245.80013]\n",
      " [250.67097]\n",
      " [255.8333 ]\n",
      " [260.51962]\n",
      " [262.05634]\n",
      " [263.8767 ]\n",
      " [264.62958]\n",
      " [264.72464]\n",
      " [263.98804]\n",
      " [267.1364 ]\n",
      " [270.32465]\n",
      " [273.74365]\n",
      " [277.46768]\n",
      " [280.403  ]\n",
      " [280.9898 ]\n",
      " [280.68222]\n",
      " [279.31818]\n",
      " [276.57013]\n",
      " [271.89868]\n",
      " [267.5347 ]\n",
      " [263.50223]\n",
      " [259.71198]\n",
      " [257.648  ]\n",
      " [257.30655]\n",
      " [258.04614]\n",
      " [258.3586 ]\n",
      " [260.89493]\n",
      " [263.75058]\n",
      " [266.41064]\n",
      " [268.40848]\n",
      " [270.43326]\n",
      " [271.9877 ]\n",
      " [272.3878 ]\n",
      " [270.93436]\n",
      " [269.37732]\n",
      " [268.12207]\n",
      " [265.1893 ]\n",
      " [258.38065]\n",
      " [249.74992]\n",
      " [241.68527]\n",
      " [235.84238]\n",
      " [231.27353]\n",
      " [227.01924]\n",
      " [223.89922]\n",
      " [220.22296]\n",
      " [217.50015]\n",
      " [216.39532]\n",
      " [218.26082]\n",
      " [221.4173 ]\n",
      " [224.60501]\n",
      " [227.7946 ]\n",
      " [230.44902]\n",
      " [230.47119]\n",
      " [230.07715]\n",
      " [230.93501]\n",
      " [234.38065]\n",
      " [239.2899 ]\n",
      " [242.57918]\n",
      " [244.78252]\n",
      " [246.31021]\n",
      " [248.16194]\n",
      " [248.6666 ]\n",
      " [248.7186 ]\n",
      " [248.62408]\n",
      " [250.19904]\n",
      " [251.78804]\n",
      " [252.50385]\n",
      " [252.53043]\n",
      " [251.70319]\n",
      " [251.14348]\n",
      " [250.86827]\n",
      " [251.30228]\n",
      " [252.17224]\n",
      " [252.43669]\n",
      " [251.97395]\n",
      " [251.63829]\n",
      " [253.31302]\n",
      " [255.9639 ]\n",
      " [258.4134 ]\n",
      " [261.2471 ]\n",
      " [262.09393]\n",
      " [263.18732]\n",
      " [263.80417]\n",
      " [264.78665]\n",
      " [266.53183]\n",
      " [266.9396 ]\n",
      " [265.97055]\n",
      " [264.5392 ]\n",
      " [261.47028]\n",
      " [258.13666]\n",
      " [255.12863]\n",
      " [253.2373 ]\n",
      " [251.2549 ]\n",
      " [249.44637]\n",
      " [246.93071]\n",
      " [243.20181]\n",
      " [239.72899]\n",
      " [236.20454]\n",
      " [232.66165]\n",
      " [229.74773]\n",
      " [227.04486]\n",
      " [224.95377]\n",
      " [223.27238]\n",
      " [218.05753]\n",
      " [212.27089]\n",
      " [208.27467]\n",
      " [205.78825]\n",
      " [203.73811]\n",
      " [202.49995]\n",
      " [201.68619]\n",
      " [200.1367 ]\n",
      " [199.15163]\n",
      " [198.9443 ]\n",
      " [199.4396 ]\n",
      " [200.81932]\n",
      " [201.53136]\n",
      " [201.20284]\n",
      " [201.18008]\n",
      " [203.1175 ]\n",
      " [205.54333]\n",
      " [206.8618 ]\n",
      " [207.64734]\n",
      " [208.4555 ]\n",
      " [208.26022]\n",
      " [208.82483]\n",
      " [209.65659]\n",
      " [210.85553]\n",
      " [212.00415]\n",
      " [213.07509]\n",
      " [211.63246]\n",
      " [208.1466 ]\n",
      " [203.5927 ]\n",
      " [199.56505]\n",
      " [195.86087]\n",
      " [193.27986]\n",
      " [191.58577]\n",
      " [189.33357]\n",
      " [186.12845]\n",
      " [183.15384]\n",
      " [182.31248]\n",
      " [182.1945 ]\n",
      " [183.14992]\n",
      " [184.02318]\n",
      " [184.43811]\n",
      " [184.85815]\n",
      " [185.9871 ]\n",
      " [187.59453]\n",
      " [188.54692]\n",
      " [188.97142]\n",
      " [187.73087]\n",
      " [186.18881]\n",
      " [185.1321 ]\n",
      " [183.48256]\n",
      " [183.08519]\n",
      " [183.9119 ]\n",
      " [184.39656]\n",
      " [185.12248]\n",
      " [185.28511]\n",
      " [183.68431]\n",
      " [180.84639]\n",
      " [177.59152]\n",
      " [173.77113]\n",
      " [169.8294 ]\n",
      " [165.66048]\n",
      " [162.4221 ]\n",
      " [162.76851]\n",
      " [165.99208]\n",
      " [169.8454 ]\n",
      " [177.46716]\n",
      " [183.98067]\n",
      " [188.52501]\n",
      " [191.43466]\n",
      " [193.2765 ]\n",
      " [194.85645]\n",
      " [194.9384 ]\n",
      " [193.83556]\n",
      " [191.90294]\n",
      " [189.32233]\n",
      " [187.36557]\n",
      " [186.86314]\n",
      " [186.55956]\n",
      " [186.56595]\n",
      " [187.13257]\n",
      " [187.48524]\n",
      " [189.52599]\n",
      " [190.99277]\n",
      " [191.0141 ]\n",
      " [191.2314 ]\n",
      " [191.07814]\n",
      " [190.69711]\n",
      " [190.67068]]\n"
     ]
    }
   ],
   "source": [
    "#generate predictions\n",
    "predictions = model.predict(x_test)\n",
    "#transform the scaled data to the actual scale\n",
    "predictions = scaler.inverse_transform(predictions)\n",
    "print(predictions)"
   ]
  },
  {
   "cell_type": "code",
   "execution_count": 28,
   "metadata": {},
   "outputs": [
    {
     "data": {
      "text/plain": [
       "15.995437476948663"
      ]
     },
     "execution_count": 28,
     "metadata": {},
     "output_type": "execute_result"
    }
   ],
   "source": [
    "rmse = np.sqrt(np.mean((predictions - y_test)**2))\n",
    "rmse"
   ]
  },
  {
   "cell_type": "code",
   "execution_count": null,
   "metadata": {},
   "outputs": [],
   "source": []
  }
 ],
 "metadata": {
  "kernelspec": {
   "display_name": "Python 3",
   "language": "python",
   "name": "python3"
  },
  "language_info": {
   "codemirror_mode": {
    "name": "ipython",
    "version": 3
   },
   "file_extension": ".py",
   "mimetype": "text/x-python",
   "name": "python",
   "nbconvert_exporter": "python",
   "pygments_lexer": "ipython3",
   "version": "3.12.0"
  }
 },
 "nbformat": 4,
 "nbformat_minor": 2
}
