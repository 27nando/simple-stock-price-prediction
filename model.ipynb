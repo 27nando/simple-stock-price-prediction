{
 "cells": [
  {
   "cell_type": "code",
   "execution_count": 2,
   "metadata": {},
   "outputs": [],
   "source": [
    "import math\n",
    "#to read data from the web\n",
    "import pandas_datareader as web \n",
    "#to perform numerical computations\n",
    "import numpy as np \n",
    "#for data manipulation and analysis\n",
    "import pandas as pd\n",
    "#to normalize and scale the data\n",
    "from sklearn.preprocessing import MinMaxScaler\n",
    "import tensorflow as tf\n",
    "#to build the model layer by layer\n",
    "from tensorflow.keras.models import Sequential\n",
    "#for time series prediction - Long Short Term Memory\n",
    "from tensorflow.keras.layers import Dense, LSTM\n",
    "#to plot the graphs\n",
    "import matplotlib.pyplot as plt\n",
    "plt.style.use('fivethirtyeight')\n",
    "#download market data from yahoo finance\n",
    "import yfinance as yf"
   ]
  }
 ],
 "metadata": {
  "kernelspec": {
   "display_name": "Python 3",
   "language": "python",
   "name": "python3"
  },
  "language_info": {
   "codemirror_mode": {
    "name": "ipython",
    "version": 3
   },
   "file_extension": ".py",
   "mimetype": "text/x-python",
   "name": "python",
   "nbconvert_exporter": "python",
   "pygments_lexer": "ipython3",
   "version": "3.12.0"
  }
 },
 "nbformat": 4,
 "nbformat_minor": 2
}
